{
  "nbformat": 4,
  "nbformat_minor": 0,
  "metadata": {
    "accelerator": "GPU",
    "colab": {
      "name": "10_DCGAN.ipynb",
      "provenance": [],
      "collapsed_sections": [],
      "authorship_tag": "ABX9TyMoii+IqUtR4lJmkoNdHxcI",
      "include_colab_link": true
    },
    "kernelspec": {
      "display_name": "Python 3",
      "name": "python3"
    },
    "language_info": {
      "name": "python"
    },
    "widgets": {
      "application/vnd.jupyter.widget-state+json": {
        "09edc4cf6eda416c8b5c55cd7da91d81": {
          "model_module": "@jupyter-widgets/controls",
          "model_name": "VBoxModel",
          "state": {
            "_view_name": "VBoxView",
            "_dom_classes": [],
            "_model_name": "VBoxModel",
            "_view_module": "@jupyter-widgets/controls",
            "_model_module_version": "1.5.0",
            "_view_count": null,
            "_view_module_version": "1.5.0",
            "box_style": "",
            "layout": "IPY_MODEL_e37443a0fb0e4e0d9f85dfc025685a2b",
            "_model_module": "@jupyter-widgets/controls",
            "children": [
              "IPY_MODEL_cd2082b5f2dd4a0887a93b92e62b2a7a",
              "IPY_MODEL_d2e4e1463a9c4aa3b031a882f8ecfd76"
            ]
          }
        },
        "e37443a0fb0e4e0d9f85dfc025685a2b": {
          "model_module": "@jupyter-widgets/base",
          "model_name": "LayoutModel",
          "state": {
            "_view_name": "LayoutView",
            "grid_template_rows": null,
            "right": null,
            "justify_content": null,
            "_view_module": "@jupyter-widgets/base",
            "overflow": null,
            "_model_module_version": "1.2.0",
            "_view_count": null,
            "flex_flow": null,
            "width": null,
            "min_width": null,
            "border": null,
            "align_items": null,
            "bottom": null,
            "_model_module": "@jupyter-widgets/base",
            "top": null,
            "grid_column": null,
            "overflow_y": null,
            "overflow_x": null,
            "grid_auto_flow": null,
            "grid_area": null,
            "grid_template_columns": null,
            "flex": null,
            "_model_name": "LayoutModel",
            "justify_items": null,
            "grid_row": null,
            "max_height": null,
            "align_content": null,
            "visibility": null,
            "align_self": null,
            "height": null,
            "min_height": null,
            "padding": null,
            "grid_auto_rows": null,
            "grid_gap": null,
            "max_width": null,
            "order": null,
            "_view_module_version": "1.2.0",
            "grid_template_areas": null,
            "object_position": null,
            "object_fit": null,
            "grid_auto_columns": null,
            "margin": null,
            "display": null,
            "left": null
          }
        },
        "cd2082b5f2dd4a0887a93b92e62b2a7a": {
          "model_module": "@jupyter-widgets/controls",
          "model_name": "LabelModel",
          "state": {
            "_view_name": "LabelView",
            "style": "IPY_MODEL_d75f619fbe6440508904a773adf895d9",
            "_dom_classes": [],
            "description": "",
            "_model_name": "LabelModel",
            "placeholder": "​",
            "_view_module": "@jupyter-widgets/controls",
            "_model_module_version": "1.5.0",
            "value": " 2.75MB of 2.75MB uploaded (0.00MB deduped)\r",
            "_view_count": null,
            "_view_module_version": "1.5.0",
            "description_tooltip": null,
            "_model_module": "@jupyter-widgets/controls",
            "layout": "IPY_MODEL_a66afc07273242a2837b00dda6f5bdd1"
          }
        },
        "d2e4e1463a9c4aa3b031a882f8ecfd76": {
          "model_module": "@jupyter-widgets/controls",
          "model_name": "FloatProgressModel",
          "state": {
            "_view_name": "ProgressView",
            "style": "IPY_MODEL_5e855ea29bcc4f9c869cc73573ecfbb9",
            "_dom_classes": [],
            "description": "",
            "_model_name": "FloatProgressModel",
            "bar_style": "",
            "max": 1,
            "_view_module": "@jupyter-widgets/controls",
            "_model_module_version": "1.5.0",
            "value": 1,
            "_view_count": null,
            "_view_module_version": "1.5.0",
            "orientation": "horizontal",
            "min": 0,
            "description_tooltip": null,
            "_model_module": "@jupyter-widgets/controls",
            "layout": "IPY_MODEL_468f5ac08868487cb1fada631396d21f"
          }
        },
        "d75f619fbe6440508904a773adf895d9": {
          "model_module": "@jupyter-widgets/controls",
          "model_name": "DescriptionStyleModel",
          "state": {
            "_view_name": "StyleView",
            "_model_name": "DescriptionStyleModel",
            "description_width": "",
            "_view_module": "@jupyter-widgets/base",
            "_model_module_version": "1.5.0",
            "_view_count": null,
            "_view_module_version": "1.2.0",
            "_model_module": "@jupyter-widgets/controls"
          }
        },
        "a66afc07273242a2837b00dda6f5bdd1": {
          "model_module": "@jupyter-widgets/base",
          "model_name": "LayoutModel",
          "state": {
            "_view_name": "LayoutView",
            "grid_template_rows": null,
            "right": null,
            "justify_content": null,
            "_view_module": "@jupyter-widgets/base",
            "overflow": null,
            "_model_module_version": "1.2.0",
            "_view_count": null,
            "flex_flow": null,
            "width": null,
            "min_width": null,
            "border": null,
            "align_items": null,
            "bottom": null,
            "_model_module": "@jupyter-widgets/base",
            "top": null,
            "grid_column": null,
            "overflow_y": null,
            "overflow_x": null,
            "grid_auto_flow": null,
            "grid_area": null,
            "grid_template_columns": null,
            "flex": null,
            "_model_name": "LayoutModel",
            "justify_items": null,
            "grid_row": null,
            "max_height": null,
            "align_content": null,
            "visibility": null,
            "align_self": null,
            "height": null,
            "min_height": null,
            "padding": null,
            "grid_auto_rows": null,
            "grid_gap": null,
            "max_width": null,
            "order": null,
            "_view_module_version": "1.2.0",
            "grid_template_areas": null,
            "object_position": null,
            "object_fit": null,
            "grid_auto_columns": null,
            "margin": null,
            "display": null,
            "left": null
          }
        },
        "5e855ea29bcc4f9c869cc73573ecfbb9": {
          "model_module": "@jupyter-widgets/controls",
          "model_name": "ProgressStyleModel",
          "state": {
            "_view_name": "StyleView",
            "_model_name": "ProgressStyleModel",
            "description_width": "",
            "_view_module": "@jupyter-widgets/base",
            "_model_module_version": "1.5.0",
            "_view_count": null,
            "_view_module_version": "1.2.0",
            "bar_color": null,
            "_model_module": "@jupyter-widgets/controls"
          }
        },
        "468f5ac08868487cb1fada631396d21f": {
          "model_module": "@jupyter-widgets/base",
          "model_name": "LayoutModel",
          "state": {
            "_view_name": "LayoutView",
            "grid_template_rows": null,
            "right": null,
            "justify_content": null,
            "_view_module": "@jupyter-widgets/base",
            "overflow": null,
            "_model_module_version": "1.2.0",
            "_view_count": null,
            "flex_flow": null,
            "width": null,
            "min_width": null,
            "border": null,
            "align_items": null,
            "bottom": null,
            "_model_module": "@jupyter-widgets/base",
            "top": null,
            "grid_column": null,
            "overflow_y": null,
            "overflow_x": null,
            "grid_auto_flow": null,
            "grid_area": null,
            "grid_template_columns": null,
            "flex": null,
            "_model_name": "LayoutModel",
            "justify_items": null,
            "grid_row": null,
            "max_height": null,
            "align_content": null,
            "visibility": null,
            "align_self": null,
            "height": null,
            "min_height": null,
            "padding": null,
            "grid_auto_rows": null,
            "grid_gap": null,
            "max_width": null,
            "order": null,
            "_view_module_version": "1.2.0",
            "grid_template_areas": null,
            "object_position": null,
            "object_fit": null,
            "grid_auto_columns": null,
            "margin": null,
            "display": null,
            "left": null
          }
        }
      }
    }
  },
  "cells": [
    {
      "cell_type": "markdown",
      "metadata": {
        "id": "view-in-github",
        "colab_type": "text"
      },
      "source": [
        "<a href=\"https://colab.research.google.com/github/151ali/lr-pytorch/blob/main/10_DCGAN.ipynb\" target=\"_parent\"><img src=\"https://colab.research.google.com/assets/colab-badge.svg\" alt=\"Open In Colab\"/></a>"
      ]
    },
    {
      "cell_type": "markdown",
      "metadata": {
        "id": "ibXPDDSCvROT"
      },
      "source": [
        "# Define **Discriminator** and **generator**"
      ]
    },
    {
      "cell_type": "code",
      "metadata": {
        "id": "nSbq-PA-ZX5f"
      },
      "source": [
        "import torch\n",
        "import torch.nn as nn"
      ],
      "execution_count": 18,
      "outputs": []
    },
    {
      "cell_type": "code",
      "metadata": {
        "id": "OaHm-asLnegs"
      },
      "source": [
        "from torch.nn.modules.batchnorm import BatchNorm2d\n",
        "class Discriminator(nn.Module):\n",
        "  def __init__(self,img_channels, features_d):\n",
        "    super().__init__()\n",
        "\n",
        "    self.discriminator = nn.Sequential(\n",
        "        # input => N * img_channels * 64 * 64\n",
        "        nn.Conv2d(img_channels, features_d, kernel_size=4, stride=2, padding=1),    # 32*32\n",
        "        nn.LeakyReLU(0.2),                                                          # ..*..\n",
        "        self._block(features_d, features_d*2, kernel_size=4, stride=2, padding=1),  # 16*16\n",
        "        self._block(features_d*2, features_d*4, kernel_size=4, stride=2, padding=1),# 08*08\n",
        "        self._block(features_d*4, features_d*8, kernel_size=4, stride=2, padding=1),# 04*04\n",
        "        nn.Conv2d(features_d*8, 1, kernel_size=4, stride=2, padding=0),             # 01*01\n",
        "        nn.LeakyReLU(0.2),\n",
        "        nn.Sigmoid(),\n",
        "    )\n",
        "\n",
        "    self.initialize_weights()\n",
        "\n",
        "\n",
        "  def _block(self, in_channels,out_channels, **kwargs):\n",
        "    return nn.Sequential(\n",
        "        nn.Conv2d(in_channels=in_channels, out_channels=out_channels, bias=False, **kwargs),\n",
        "        # nn.BatchNorm2d(out_channels),\n",
        "        nn.LeakyReLU(0.2)\n",
        "    )\n",
        "    \n",
        "  def initialize_weights(self):\n",
        "    for m in self.modules():\n",
        "      if isinstance(m, (nn.Conv2d, nn.ConvTranspose2d, nn.BatchNorm2d)):\n",
        "        nn.init.normal_(m.weight.data, 0.0, 0.02)\n",
        "\n",
        "  def forward(self, x):\n",
        "    return self.discriminator(x)"
      ],
      "execution_count": 19,
      "outputs": []
    },
    {
      "cell_type": "code",
      "metadata": {
        "id": "Mq_ds4h4npIM"
      },
      "source": [
        "class Generator(nn.Module):\n",
        "  def __init__(self, z_dim, img_channels, features_g):\n",
        "    super().__init__()\n",
        "\n",
        "    self.generator = nn.Sequential(\n",
        "        # input => N * z_dim * 01 * 01\n",
        "        self._block(z_dim, features_g*16, kernel_size=4, stride=1, padding=0),\n",
        "        self._block(features_g*16, features_g*8, kernel_size=4, stride=2, padding=1),\n",
        "        self._block(features_g*8, features_g*4, kernel_size=4, stride=2, padding=1),\n",
        "        self._block(features_g*4, features_g*2, kernel_size=4, stride=2, padding=1),\n",
        "        nn.ConvTranspose2d(features_g*2, img_channels, kernel_size=4, stride=2, padding=1),\n",
        "        nn.Tanh() # [-1, 1]\n",
        "    )\n",
        "    self.initialize_weights()\n",
        "\n",
        "  def _block(self, in_channels,out_channels, **kwargs):\n",
        "    return nn.Sequential(\n",
        "      nn.ConvTranspose2d(in_channels=in_channels, out_channels=out_channels, bias=False, **kwargs),\n",
        "      # nn.BatchNorm2d(out_channels),\n",
        "      nn.ReLU(), # From DCGAN paper :{\n",
        "    )\n",
        "\n",
        "  def initialize_weights(self):\n",
        "    for m in self.modules():\n",
        "      if isinstance(m, (nn.Conv2d, nn.ConvTranspose2d, nn.BatchNorm2d)):\n",
        "        nn.init.normal_(m.weight.data, 0.0, 0.02)\n",
        "\n",
        "  def forward(self, x):\n",
        "    return self.generator(x)\n"
      ],
      "execution_count": 20,
      "outputs": []
    },
    {
      "cell_type": "code",
      "metadata": {
        "id": "Ie42SriusAxj"
      },
      "source": [
        ""
      ],
      "execution_count": 20,
      "outputs": []
    },
    {
      "cell_type": "code",
      "metadata": {
        "id": "8GYNhIREtApJ"
      },
      "source": [
        "def test():\n",
        "  N, in_channels, H, W = 8, 3, 64, 64\n",
        "  z_dim = 100\n",
        "\n",
        "  x= torch.randn((N, in_channels, H, W))\n",
        "  disc = Discriminator(in_channels, 8)\n",
        "  assert disc(x).shape == (N, 1, 1, 1)\n",
        "\n",
        "  gen = Generator(z_dim, in_channels, 8)\n",
        "  z = torch.randn((N, z_dim, 1, 1))\n",
        "  assert gen(z).shape == (N, in_channels, H, W)\n",
        "\n",
        "  print(\"Success !\")\n"
      ],
      "execution_count": 21,
      "outputs": []
    },
    {
      "cell_type": "code",
      "metadata": {
        "colab": {
          "base_uri": "https://localhost:8080/"
        },
        "id": "C5BHd-ogthMW",
        "outputId": "d2e98564-f2cf-4c40-b18f-c77ba2cef673"
      },
      "source": [
        "test()"
      ],
      "execution_count": 22,
      "outputs": [
        {
          "output_type": "stream",
          "text": [
            "Success !\n"
          ],
          "name": "stdout"
        }
      ]
    },
    {
      "cell_type": "markdown",
      "metadata": {
        "id": "pzp0qQ72vazS"
      },
      "source": [
        "# Trainnig"
      ]
    },
    {
      "cell_type": "code",
      "metadata": {
        "id": "3e9cS03Qv0Uz"
      },
      "source": [
        "!pip install wandb -qq"
      ],
      "execution_count": 23,
      "outputs": []
    },
    {
      "cell_type": "code",
      "metadata": {
        "id": "jNbKF9TYvej9"
      },
      "source": [
        "import torch.optim as optim\n",
        "import torchvision\n",
        "import torchvision.datasets as datasets\n",
        "import torchvision.transforms as transforms\n",
        "from   torch.utils.data import DataLoader"
      ],
      "execution_count": 24,
      "outputs": []
    },
    {
      "cell_type": "code",
      "metadata": {
        "colab": {
          "base_uri": "https://localhost:8080/"
        },
        "id": "J-Ko1Cw_vziV",
        "outputId": "6829a924-bdbb-4195-bcaa-b0685c87d220"
      },
      "source": [
        "import wandb\n",
        "!wandb login"
      ],
      "execution_count": 25,
      "outputs": [
        {
          "output_type": "stream",
          "text": [
            "\u001b[34m\u001b[1mwandb\u001b[0m: Currently logged in as: \u001b[33m151ali\u001b[0m (use `wandb login --relogin` to force relogin)\n"
          ],
          "name": "stdout"
        }
      ]
    },
    {
      "cell_type": "code",
      "metadata": {
        "colab": {
          "base_uri": "https://localhost:8080/",
          "height": 654,
          "referenced_widgets": [
            "09edc4cf6eda416c8b5c55cd7da91d81",
            "e37443a0fb0e4e0d9f85dfc025685a2b",
            "cd2082b5f2dd4a0887a93b92e62b2a7a",
            "d2e4e1463a9c4aa3b031a882f8ecfd76",
            "d75f619fbe6440508904a773adf895d9",
            "a66afc07273242a2837b00dda6f5bdd1",
            "5e855ea29bcc4f9c869cc73573ecfbb9",
            "468f5ac08868487cb1fada631396d21f"
          ]
        },
        "id": "bZ6aXfw3wNNg",
        "outputId": "2c4cc67c-6a19-4455-cc5e-870c4e2fcf48"
      },
      "source": [
        "# Initialize a new run\n",
        "wandb.init(project=\"DCGAN_impl\");"
      ],
      "execution_count": 26,
      "outputs": [
        {
          "output_type": "display_data",
          "data": {
            "text/html": [
              "Finishing last run (ID:39asdq6o) before initializing another..."
            ],
            "text/plain": [
              "<IPython.core.display.HTML object>"
            ]
          },
          "metadata": {
            "tags": []
          }
        },
        {
          "output_type": "display_data",
          "data": {
            "text/html": [
              "<br/>Waiting for W&B process to finish, PID 550<br/>Program ended successfully."
            ],
            "text/plain": [
              "<IPython.core.display.HTML object>"
            ]
          },
          "metadata": {
            "tags": []
          }
        },
        {
          "output_type": "display_data",
          "data": {
            "application/vnd.jupyter.widget-view+json": {
              "model_id": "09edc4cf6eda416c8b5c55cd7da91d81",
              "version_minor": 0,
              "version_major": 2
            },
            "text/plain": [
              "VBox(children=(Label(value=' 2.75MB of 2.75MB uploaded (0.00MB deduped)\\r'), FloatProgress(value=1.0, max=1.0)…"
            ]
          },
          "metadata": {
            "tags": []
          }
        },
        {
          "output_type": "display_data",
          "data": {
            "text/html": [
              "Find user logs for this run at: <code>/content/wandb/run-20210624_221111-39asdq6o/logs/debug.log</code>"
            ],
            "text/plain": [
              "<IPython.core.display.HTML object>"
            ]
          },
          "metadata": {
            "tags": []
          }
        },
        {
          "output_type": "display_data",
          "data": {
            "text/html": [
              "Find internal logs for this run at: <code>/content/wandb/run-20210624_221111-39asdq6o/logs/debug-internal.log</code>"
            ],
            "text/plain": [
              "<IPython.core.display.HTML object>"
            ]
          },
          "metadata": {
            "tags": []
          }
        },
        {
          "output_type": "display_data",
          "data": {
            "text/html": [
              "<h3>Run summary:</h3><br/><style>\n",
              "    table.wandb td:nth-child(1) { padding: 0 10px; text-align: right }\n",
              "    </style><table class=\"wandb\">\n",
              "<tr><td>Discriminator loss</td><td>0.00082</td></tr><tr><td>_runtime</td><td>352</td></tr><tr><td>_timestamp</td><td>1624573023</td></tr><tr><td>_step</td><td>35</td></tr><tr><td>Generator loss</td><td>0.00129</td></tr></table>"
            ],
            "text/plain": [
              "<IPython.core.display.HTML object>"
            ]
          },
          "metadata": {
            "tags": []
          }
        },
        {
          "output_type": "display_data",
          "data": {
            "text/html": [
              "<h3>Run history:</h3><br/><style>\n",
              "    table.wandb td:nth-child(1) { padding: 0 10px; text-align: right }\n",
              "    </style><table class=\"wandb\">\n",
              "<tr><td>Discriminator loss</td><td>█▂▁▁▁▁▁▁▁</td></tr><tr><td>_runtime</td><td>▁▁▁▁▂▂▂▂▃▃▃▃▄▄▄▄▅▅▅▅▅▅▅▅▆▆▆▆▇▇▇▇████</td></tr><tr><td>_timestamp</td><td>▁▁▁▁▂▂▂▂▃▃▃▃▄▄▄▄▅▅▅▅▅▅▅▅▆▆▆▆▇▇▇▇████</td></tr><tr><td>_step</td><td>▁▁▁▂▂▂▂▂▃▃▃▃▃▄▄▄▄▄▅▅▅▅▅▆▆▆▆▆▇▇▇▇▇███</td></tr><tr><td>Generator loss</td><td>█▂▁▁▁▁▁▁▁</td></tr></table><br/>"
            ],
            "text/plain": [
              "<IPython.core.display.HTML object>"
            ]
          },
          "metadata": {
            "tags": []
          }
        },
        {
          "output_type": "display_data",
          "data": {
            "text/html": [
              "Synced 5 W&B file(s), 18 media file(s), 0 artifact file(s) and 0 other file(s)"
            ],
            "text/plain": [
              "<IPython.core.display.HTML object>"
            ]
          },
          "metadata": {
            "tags": []
          }
        },
        {
          "output_type": "display_data",
          "data": {
            "text/html": [
              "\n",
              "                    <br/>Synced <strong style=\"color:#cdcd00\">vague-microwave-3</strong>: <a href=\"https://wandb.ai/151ali/DCGAN_impl/runs/39asdq6o\" target=\"_blank\">https://wandb.ai/151ali/DCGAN_impl/runs/39asdq6o</a><br/>\n",
              "                "
            ],
            "text/plain": [
              "<IPython.core.display.HTML object>"
            ]
          },
          "metadata": {
            "tags": []
          }
        },
        {
          "output_type": "display_data",
          "data": {
            "text/html": [
              "...Successfully finished last run (ID:39asdq6o). Initializing new run:<br/><br/>"
            ],
            "text/plain": [
              "<IPython.core.display.HTML object>"
            ]
          },
          "metadata": {
            "tags": []
          }
        },
        {
          "output_type": "display_data",
          "data": {
            "text/html": [
              "\n",
              "                Tracking run with wandb version 0.10.32<br/>\n",
              "                Syncing run <strong style=\"color:#cdcd00\">clean-sound-4</strong> to <a href=\"https://wandb.ai\" target=\"_blank\">Weights & Biases</a> <a href=\"https://docs.wandb.com/integrations/jupyter.html\" target=\"_blank\">(Documentation)</a>.<br/>\n",
              "                Project page: <a href=\"https://wandb.ai/151ali/DCGAN_impl\" target=\"_blank\">https://wandb.ai/151ali/DCGAN_impl</a><br/>\n",
              "                Run page: <a href=\"https://wandb.ai/151ali/DCGAN_impl/runs/3v88az4n\" target=\"_blank\">https://wandb.ai/151ali/DCGAN_impl/runs/3v88az4n</a><br/>\n",
              "                Run data is saved locally in <code>/content/wandb/run-20210624_221919-3v88az4n</code><br/><br/>\n",
              "            "
            ],
            "text/plain": [
              "<IPython.core.display.HTML object>"
            ]
          },
          "metadata": {
            "tags": []
          }
        }
      ]
    },
    {
      "cell_type": "code",
      "metadata": {
        "id": "gmX9vLw8w8n2"
      },
      "source": [
        "device = torch.device(\"cuda\" if torch.cuda.is_available() else \"cpu\")\n",
        "learning_rate = 2e-4\n",
        "batch_size    = 128\n",
        "image_size    = 64\n",
        "img_channels  = 1\n",
        "z_dim = 100\n",
        "num_epochs = 50   # try to increase it\n",
        "features_disc = 64\n",
        "features_gen = 64"
      ],
      "execution_count": 27,
      "outputs": []
    },
    {
      "cell_type": "code",
      "metadata": {
        "colab": {
          "base_uri": "https://localhost:8080/"
        },
        "id": "1Lmhy9pQ3zbk",
        "outputId": "e8211915-2b54-4eba-ef4a-1cd49f73efa4"
      },
      "source": [
        "print(device)"
      ],
      "execution_count": 28,
      "outputs": [
        {
          "output_type": "stream",
          "text": [
            "cuda\n"
          ],
          "name": "stdout"
        }
      ]
    },
    {
      "cell_type": "code",
      "metadata": {
        "id": "-ayE4kXpxT1B"
      },
      "source": [
        "transforms = transforms.Compose([\n",
        "  transforms.Resize(image_size),\n",
        "  transforms.ToTensor(),\n",
        "  transforms.Normalize(\n",
        "      [0.5 for _ in range(img_channels)],[0.5 for _ in range(img_channels)]),          \n",
        "])"
      ],
      "execution_count": 29,
      "outputs": []
    },
    {
      "cell_type": "code",
      "metadata": {
        "id": "B4feRMpfx8_e"
      },
      "source": [
        "dataset = datasets.MNIST(root=\"datasets/\",train=True,\n",
        "                          transform=transforms,\n",
        "                          download=True\n",
        "                          );"
      ],
      "execution_count": 30,
      "outputs": []
    },
    {
      "cell_type": "code",
      "metadata": {
        "id": "J3sSkOkKyIV1"
      },
      "source": [
        "loader = DataLoader(dataset, batch_size=batch_size, shuffle=True)"
      ],
      "execution_count": 31,
      "outputs": []
    },
    {
      "cell_type": "code",
      "metadata": {
        "id": "xcVWVl5jyRsU"
      },
      "source": [
        "gen  = Generator(z_dim,img_channels,features_gen).to(device)\n",
        "disc = Discriminator(img_channels,features_gen).to(device)\n",
        "\n",
        "opt_gen  = optim.SGD(gen.parameters(),  lr=learning_rate, momentum=0.9) # try to use Adam\n",
        "opt_disc = optim.SGD(disc.parameters(), lr=learning_rate, momentum=0.9)"
      ],
      "execution_count": 32,
      "outputs": []
    },
    {
      "cell_type": "code",
      "metadata": {
        "id": "cCJrNjeKy1fQ"
      },
      "source": [
        "criterion = nn.BCELoss()\n",
        "fixed_noise = torch.randn(32, z_dim, 1, 1).to(device)"
      ],
      "execution_count": 33,
      "outputs": []
    },
    {
      "cell_type": "code",
      "metadata": {
        "id": "YtzIJJZpzo0l",
        "colab": {
          "base_uri": "https://localhost:8080/"
        },
        "outputId": "68f3188c-11c4-4b6c-ab27-2dfeae8098d5"
      },
      "source": [
        "step = 0\n",
        "for epoch in range(num_epochs):\n",
        "  for batch_idx, (real, _) in enumerate(loader):\n",
        "    real  = real.to(device)\n",
        "    noise = torch.randn((batch_size, z_dim, 1, 1)).to(device)\n",
        "    fake = gen(noise)\n",
        "\n",
        "\n",
        "    # train Discriminator\n",
        "    disc_real = disc(real).reshape(-1)\n",
        "    loss_disc_real = criterion(disc_real, torch.ones_like(disc_real))\n",
        "    disc_fake = disc(fake).reshape(-1)\n",
        "    loss_disc_fake = criterion(disc_fake, torch.zeros_like(disc_fake))\n",
        "\n",
        "    loss_disc = (loss_disc_real + loss_disc_fake) /2\n",
        "    disc.zero_grad()\n",
        "    loss_disc.backward(retain_graph=True)\n",
        "    opt_disc.step()\n",
        "\n",
        "    # train Generator\n",
        "    output = disc(fake).reshape(-1)\n",
        "    loss_gen = criterion(output, torch.ones_like(output))\n",
        "    gen.zero_grad()\n",
        "    loss_gen.backward()\n",
        "    opt_gen.step()\n",
        "\n",
        "\n",
        "\n",
        "    # Print losses occasionally and print to tensorboard\n",
        "    if batch_idx % 100 == 0:\n",
        "      wandb.log({\"Discriminator loss\": loss_disc})\n",
        "      wandb.log({\"Generator loss\": loss_gen})\n",
        "\n",
        "      with torch.no_grad():\n",
        "        fake = gen(fixed_noise)\n",
        "        # take out (up to) 32 examples\n",
        "        img_grid_real = torchvision.utils.make_grid(\n",
        "            real[:32], normalize=True\n",
        "        )\n",
        "        img_grid_fake = torchvision.utils.make_grid(\n",
        "            fake[:32], normalize=True\n",
        "        )\n",
        "\n",
        "        wandb.log({\"real\": [wandb.Image(img_grid_real, caption=f\"real-{step}\")]})\n",
        "        wandb.log({\"fake\": [wandb.Image(img_grid_fake, caption=f\"fake-{step}\")]})\n",
        "      print(step)\n",
        "      step += 1"
      ],
      "execution_count": null,
      "outputs": [
        {
          "output_type": "stream",
          "text": [
            "0\n",
            "1\n",
            "2\n",
            "3\n",
            "4\n",
            "5\n",
            "6\n",
            "7\n",
            "8\n",
            "9\n",
            "10\n",
            "11\n",
            "12\n",
            "13\n",
            "14\n",
            "15\n",
            "16\n",
            "17\n",
            "18\n",
            "19\n",
            "20\n",
            "21\n",
            "22\n",
            "23\n",
            "24\n",
            "25\n",
            "26\n",
            "27\n",
            "28\n",
            "29\n",
            "30\n",
            "31\n",
            "32\n",
            "33\n",
            "34\n",
            "35\n",
            "36\n",
            "37\n",
            "38\n",
            "39\n",
            "40\n",
            "41\n",
            "42\n",
            "43\n",
            "44\n",
            "45\n",
            "46\n",
            "47\n",
            "48\n",
            "49\n",
            "50\n",
            "51\n",
            "52\n",
            "53\n",
            "54\n",
            "55\n",
            "56\n",
            "57\n",
            "58\n",
            "59\n",
            "60\n",
            "61\n",
            "62\n",
            "63\n",
            "64\n",
            "65\n",
            "66\n",
            "67\n",
            "68\n",
            "69\n",
            "70\n",
            "71\n",
            "72\n",
            "73\n",
            "74\n",
            "75\n",
            "76\n",
            "77\n",
            "78\n",
            "79\n",
            "80\n",
            "81\n",
            "82\n",
            "83\n",
            "84\n",
            "85\n",
            "86\n",
            "87\n",
            "88\n",
            "89\n",
            "90\n",
            "91\n",
            "92\n",
            "93\n",
            "94\n",
            "95\n",
            "96\n",
            "97\n",
            "98\n",
            "99\n",
            "100\n",
            "101\n",
            "102\n",
            "103\n",
            "104\n",
            "105\n",
            "106\n",
            "107\n",
            "108\n",
            "109\n",
            "110\n",
            "111\n"
          ],
          "name": "stdout"
        }
      ]
    },
    {
      "cell_type": "code",
      "metadata": {
        "id": "uBc33E8t39hm"
      },
      "source": [
        ""
      ],
      "execution_count": null,
      "outputs": []
    }
  ]
}