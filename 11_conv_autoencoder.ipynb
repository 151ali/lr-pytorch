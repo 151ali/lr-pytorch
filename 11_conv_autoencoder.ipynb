{
  "nbformat": 4,
  "nbformat_minor": 0,
  "metadata": {
    "colab": {
      "name": "11_conv_autoencoder.ipynb",
      "provenance": [],
      "collapsed_sections": [],
      "mount_file_id": "1ydhvnFDy2yKkj7HYH4VkBX_h5cP2wcj_",
      "authorship_tag": "ABX9TyMYr8rstJwmvgBuXu9fmdOs",
      "include_colab_link": true
    },
    "kernelspec": {
      "name": "python3",
      "display_name": "Python 3"
    },
    "language_info": {
      "name": "python"
    },
    "accelerator": "GPU"
  },
  "cells": [
    {
      "cell_type": "markdown",
      "metadata": {
        "id": "view-in-github",
        "colab_type": "text"
      },
      "source": [
        "<a href=\"https://colab.research.google.com/github/151ali/lr-pytorch/blob/main/11_conv_autoencoder.ipynb\" target=\"_parent\"><img src=\"https://colab.research.google.com/assets/colab-badge.svg\" alt=\"Open In Colab\"/></a>"
      ]
    },
    {
      "cell_type": "code",
      "metadata": {
        "id": "X6QqyBxEBO2V"
      },
      "source": [
        "import torch\n",
        "import torch.nn as nn\n",
        "import torchvision.datasets as datasets\n",
        "import torch.optim as optim\n",
        "from torchvision import transforms\n",
        "\n",
        "from torch.utils.data import DataLoader\n",
        "from torchvision.utils import save_image, make_grid"
      ],
      "execution_count": 1,
      "outputs": []
    },
    {
      "cell_type": "code",
      "metadata": {
        "colab": {
          "base_uri": "https://localhost:8080/"
        },
        "id": "GeXrGkxiHHxU",
        "outputId": "8678f5c8-9c34-4560-cc37-abd616a8215f"
      },
      "source": [
        "device = torch.device(\"cuda\" if torch.cuda.is_available() else \"cpu\")\n",
        "print(f\"running on {device}\")"
      ],
      "execution_count": 2,
      "outputs": [
        {
          "output_type": "stream",
          "text": [
            "running on cuda\n"
          ],
          "name": "stdout"
        }
      ]
    },
    {
      "cell_type": "code",
      "metadata": {
        "id": "1K--pQcpDEIw"
      },
      "source": [
        "class AutoEncoder(nn.Module):\n",
        "  def __init__(self):\n",
        "    super(AutoEncoder, self).__init__()\n",
        "\n",
        "    self.encoder = nn.Sequential(\n",
        "        nn.Conv2d(1, 16, kernel_size=3, padding=1, bias=False),\n",
        "        nn.BatchNorm2d(16),\n",
        "        nn.ReLU(inplace=True),\n",
        "        nn.MaxPool2d(2, stride=2),\n",
        "        nn.Conv2d(16, 8, kernel_size=3, padding=1, bias=False),\n",
        "        nn.BatchNorm2d(8),\n",
        "        nn.ReLU(inplace=True),\n",
        "        nn.MaxPool2d(2, stride=2),\n",
        "        \n",
        "    )\n",
        "\n",
        "    self.decoder = nn.Sequential(\n",
        "        nn.ConvTranspose2d(8,16, kernel_size=4, padding=1, stride=2),\n",
        "        nn.ReLU(inplace=True),\n",
        "        nn.ConvTranspose2d(16,1, kernel_size=3, padding=1, stride=2, output_padding=1),\n",
        "        nn.ReLU(inplace=True),\n",
        "        \n",
        "    )\n",
        "\n",
        "\n",
        "  def forward(self, x):\n",
        "    e = self.encoder(x)\n",
        "    d = self.decoder(e)\n",
        "    return d"
      ],
      "execution_count": 3,
      "outputs": []
    },
    {
      "cell_type": "code",
      "metadata": {
        "id": "o_c9bvNWBzLd"
      },
      "source": [
        "num_epochs = 100\n",
        "batch_size = 64\n",
        "learning_rate = 3e-4"
      ],
      "execution_count": 4,
      "outputs": []
    },
    {
      "cell_type": "code",
      "metadata": {
        "id": "af1Ka42OB_cP"
      },
      "source": [
        "tr = transforms.Compose([\n",
        "    transforms.ToTensor(),\n",
        "])"
      ],
      "execution_count": 5,
      "outputs": []
    },
    {
      "cell_type": "code",
      "metadata": {
        "id": "JjpEYActCfZ7"
      },
      "source": [
        "train_dataset = datasets.MNIST(root=\"./data\", train=True, transform=tr, download=True);\n",
        "test_dataset = datasets.MNIST(root=\"./data\", train=False, transform=tr, download=True);\n",
        "train_loader = DataLoader(dataset=train_dataset, batch_size=batch_size, shuffle=True)\n",
        "test_loader = DataLoader(dataset=test_dataset, batch_size=batch_size, shuffle=True)"
      ],
      "execution_count": 7,
      "outputs": []
    },
    {
      "cell_type": "code",
      "metadata": {
        "id": "zTMfiCgkG4sR"
      },
      "source": [
        "model = AutoEncoder().to(device)\n",
        "criterion = nn.MSELoss()\n",
        "optimizer = optim.Adam(\n",
        "    model.parameters(),\n",
        "    lr = learning_rate,\n",
        ")"
      ],
      "execution_count": 12,
      "outputs": []
    },
    {
      "cell_type": "code",
      "metadata": {
        "id": "LeBr_uwyHYD4"
      },
      "source": [
        "import tqdm\n",
        "\n",
        "for epoch in range(num_epochs):\n",
        "  for _ , (data, _) in enumerate(tqdm.tqdm(train_loader)):\n",
        "    data = data.to(device)\n",
        "    targets = targets.to(device)\n",
        "\n",
        "    output = model(data)\n",
        "    loss = criterion(output, data)\n",
        "    optimizer.zero_grad()\n",
        "    \n",
        "    loss.backward()\n",
        "    optimizer.step()\n",
        "\n",
        "torch.save(model.state_dict(), '/content/drive/MyDrive/deep-learning/conv_mnist_autoencoder.pth')"
      ],
      "execution_count": null,
      "outputs": []
    },
    {
      "cell_type": "code",
      "metadata": {
        "id": "s_VfYb7TMa_H"
      },
      "source": [
        ""
      ],
      "execution_count": null,
      "outputs": []
    }
  ]
}