{
  "nbformat": 4,
  "nbformat_minor": 0,
  "metadata": {
    "colab": {
      "name": "4_weight_initialisation.ipynb",
      "provenance": [],
      "collapsed_sections": [],
      "authorship_tag": "ABX9TyN753CfhvRRIUD0EXA5Fqoq",
      "include_colab_link": true
    },
    "kernelspec": {
      "name": "python3",
      "display_name": "Python 3"
    },
    "language_info": {
      "name": "python"
    }
  },
  "cells": [
    {
      "cell_type": "markdown",
      "metadata": {
        "id": "view-in-github",
        "colab_type": "text"
      },
      "source": [
        "<a href=\"https://colab.research.google.com/github/151ali/lr-pytorch/blob/main/4_weight_initialisation.ipynb\" target=\"_parent\"><img src=\"https://colab.research.google.com/assets/colab-badge.svg\" alt=\"Open In Colab\"/></a>"
      ]
    },
    {
      "cell_type": "markdown",
      "metadata": {
        "id": "or_eqt421_6J"
      },
      "source": [
        "[doc](https://pytorch.org/docs/stable/nn.init.html)"
      ]
    },
    {
      "cell_type": "code",
      "metadata": {
        "id": "KqKuFMH20VhY"
      },
      "source": [
        "import torch.nn as nn\n",
        "import torch.nn.functional as F"
      ],
      "execution_count": 1,
      "outputs": []
    },
    {
      "cell_type": "code",
      "metadata": {
        "id": "3WczA2H00fLd"
      },
      "source": [
        "# simple CNN net\n",
        "class CNN(nn.Module):\n",
        "  def __init__(self, in_channels, num_classes):\n",
        "    super(CNN, self).__init__()\n",
        "\n",
        "    self.conv1 = nn.Conv2d(\n",
        "        in_channels=in_channels,\n",
        "        out_channels=6,\n",
        "        kernel_size=3,\n",
        "        stride=1,\n",
        "        padding=1\n",
        "    )\n",
        "    self.pool = nn.MaxPool2d(\n",
        "        kernel_size=(2, 2),\n",
        "        stride=(2, 2)\n",
        "    )\n",
        "    self.conv2 = nn.Conv2d(\n",
        "        in_channels=6,\n",
        "        out_channels=16,\n",
        "        kernel_size=3,\n",
        "        stride=1,\n",
        "        padding=1\n",
        "    )\n",
        "    self.fc1 = nn.Linear(16*7*7, num_classes)\n",
        "\n",
        "    # more initializations\n",
        "    self.initialize_weights()\n",
        "\n",
        "  def forward(self, x):\n",
        "    x = F.relu(self.conv1(x))\n",
        "    x = self.pool(x)\n",
        "    x = F.relu(self.conv2(x))\n",
        "    x = self.pool(x)\n",
        "    x.reshape(x.shape[0], -1)\n",
        "    x = self.fc1(x)\n",
        "    return x\n",
        "\n",
        "  def initialize_weights(self):\n",
        "    for module in self.modules():\n",
        "      if isinstance(module, nn.Conv2d):\n",
        "        nn.init.kaiming_uniform_(module.weight)\n",
        "        if module.bias is not None:\n",
        "          nn.init.constant_(module.bias, 0)\n",
        "\n",
        "      elif isinstance(module, nn.BatchNorm2d):\n",
        "        nn.init.constant_(module.weight, 1)\n",
        "        nn.init.constant_(module.bias, 0)\n",
        "\n",
        "      elif isinstance(module, nn.Linear):\n",
        "        nn.init.kaiming_uniform_(module.weight)\n",
        "        nn.init.constant_(module.bias, 0)\n"
      ],
      "execution_count": 2,
      "outputs": []
    },
    {
      "cell_type": "code",
      "metadata": {
        "id": "3Gk2keGa1hOk"
      },
      "source": [
        "model = CNN(\n",
        "    in_channels=3,\n",
        "    num_classes=10\n",
        "    )"
      ],
      "execution_count": 3,
      "outputs": []
    },
    {
      "cell_type": "code",
      "metadata": {
        "id": "kEnbwxqu3m-S"
      },
      "source": [
        ""
      ],
      "execution_count": 3,
      "outputs": []
    }
  ]
}