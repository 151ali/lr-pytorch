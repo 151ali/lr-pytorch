{
  "nbformat": 4,
  "nbformat_minor": 0,
  "metadata": {
    "colab": {
      "name": "11_einsum_notation.ipynb",
      "provenance": [],
      "collapsed_sections": [],
      "authorship_tag": "ABX9TyM1D6LBLQ8fqMB3XiZf25rJ",
      "include_colab_link": true
    },
    "kernelspec": {
      "name": "python3",
      "display_name": "Python 3"
    },
    "language_info": {
      "name": "python"
    }
  },
  "cells": [
    {
      "cell_type": "markdown",
      "metadata": {
        "id": "view-in-github",
        "colab_type": "text"
      },
      "source": [
        "<a href=\"https://colab.research.google.com/github/151ali/lr-pytorch/blob/main/11_einsum_notation.ipynb\" target=\"_parent\"><img src=\"https://colab.research.google.com/assets/colab-badge.svg\" alt=\"Open In Colab\"/></a>"
      ]
    },
    {
      "cell_type": "code",
      "metadata": {
        "id": "EwxRVVK2XVTR"
      },
      "source": [
        "import torch"
      ],
      "execution_count": 1,
      "outputs": []
    },
    {
      "cell_type": "code",
      "metadata": {
        "id": "kHwFVOvRYXK1"
      },
      "source": [
        "x = torch.randn((2,3))"
      ],
      "execution_count": 2,
      "outputs": []
    },
    {
      "cell_type": "code",
      "metadata": {
        "colab": {
          "base_uri": "https://localhost:8080/"
        },
        "id": "Co3XQt64Ycos",
        "outputId": "f370e829-e76f-4d55-96c3-f72fe2c43eda"
      },
      "source": [
        "x"
      ],
      "execution_count": 3,
      "outputs": [
        {
          "output_type": "execute_result",
          "data": {
            "text/plain": [
              "tensor([[ 0.6830, -0.0255,  0.4464],\n",
              "        [-1.0930, -0.1813,  1.9189]])"
            ]
          },
          "metadata": {
            "tags": []
          },
          "execution_count": 3
        }
      ]
    },
    {
      "cell_type": "code",
      "metadata": {
        "colab": {
          "base_uri": "https://localhost:8080/"
        },
        "id": "HSgjMvPYYdOW",
        "outputId": "13d8101a-8499-404b-935e-b1e84a0c3a77"
      },
      "source": [
        "# permutation\n",
        "torch.einsum(\"ij->ji\",x)"
      ],
      "execution_count": 4,
      "outputs": [
        {
          "output_type": "execute_result",
          "data": {
            "text/plain": [
              "tensor([[ 0.6830, -1.0930],\n",
              "        [-0.0255, -0.1813],\n",
              "        [ 0.4464,  1.9189]])"
            ]
          },
          "metadata": {
            "tags": []
          },
          "execution_count": 4
        }
      ]
    },
    {
      "cell_type": "code",
      "metadata": {
        "colab": {
          "base_uri": "https://localhost:8080/"
        },
        "id": "k7hqrjtAYj4e",
        "outputId": "fd838ac1-3eec-49fb-c3b0-1f7871bf1ad1"
      },
      "source": [
        "# summation over all elements\n",
        "torch.einsum(\"ij->\",x)"
      ],
      "execution_count": 5,
      "outputs": [
        {
          "output_type": "execute_result",
          "data": {
            "text/plain": [
              "tensor(1.7485)"
            ]
          },
          "metadata": {
            "tags": []
          },
          "execution_count": 5
        }
      ]
    },
    {
      "cell_type": "code",
      "metadata": {
        "colab": {
          "base_uri": "https://localhost:8080/"
        },
        "id": "nzEAMtphYs4s",
        "outputId": "8c1f8e6e-101b-4ab7-8e2b-d7bcf0dd19f4"
      },
      "source": [
        "# summation over colulmns\n",
        "torch.einsum(\"ij->j\",x)"
      ],
      "execution_count": 6,
      "outputs": [
        {
          "output_type": "execute_result",
          "data": {
            "text/plain": [
              "tensor([-0.4100, -0.2068,  2.3653])"
            ]
          },
          "metadata": {
            "tags": []
          },
          "execution_count": 6
        }
      ]
    },
    {
      "cell_type": "code",
      "metadata": {
        "colab": {
          "base_uri": "https://localhost:8080/"
        },
        "id": "tV8NHF0pYzr1",
        "outputId": "095bdb14-87e2-45ab-8f38-31fad12a7e2e"
      },
      "source": [
        "# summation over rows\n",
        "torch.einsum(\"ij->i\",x)"
      ],
      "execution_count": 7,
      "outputs": [
        {
          "output_type": "execute_result",
          "data": {
            "text/plain": [
              "tensor([1.1039, 0.6446])"
            ]
          },
          "metadata": {
            "tags": []
          },
          "execution_count": 7
        }
      ]
    },
    {
      "cell_type": "code",
      "metadata": {
        "colab": {
          "base_uri": "https://localhost:8080/"
        },
        "id": "_RvbNLm3Y9C_",
        "outputId": "f682888b-397a-4e73-8adc-129d09d5527d"
      },
      "source": [
        "# matrix-vector multiplication\n",
        "v = torch.ones((1, 3))\n",
        "torch.einsum(\"ij,kj->ik\",x,v)"
      ],
      "execution_count": 8,
      "outputs": [
        {
          "output_type": "execute_result",
          "data": {
            "text/plain": [
              "tensor([[1.1039],\n",
              "        [0.6446]])"
            ]
          },
          "metadata": {
            "tags": []
          },
          "execution_count": 8
        }
      ]
    },
    {
      "cell_type": "code",
      "metadata": {
        "colab": {
          "base_uri": "https://localhost:8080/"
        },
        "id": "yOFOEcc3cQIc",
        "outputId": "d81f9b95-25f1-4c0c-cdf8-86ee7bf4a2ef"
      },
      "source": [
        "# matrix-matrix multiplication\n",
        "print(x.mm(x.t()))\n",
        "\n",
        "print(torch.einsum(\"ij,kj->ik\",x,x))"
      ],
      "execution_count": 9,
      "outputs": [
        {
          "output_type": "stream",
          "text": [
            "tensor([[0.6664, 0.1147],\n",
            "        [0.1147, 4.9097]])\n",
            "tensor([[0.6664, 0.1147],\n",
            "        [0.1147, 4.9097]])\n"
          ],
          "name": "stdout"
        }
      ]
    },
    {
      "cell_type": "code",
      "metadata": {
        "colab": {
          "base_uri": "https://localhost:8080/"
        },
        "id": "hQpvFtDswzuh",
        "outputId": "e5c78bc7-65e7-454b-cbf2-6a0d757c08bb"
      },
      "source": [
        "# dot product first row first row\n",
        "torch.einsum(\"i,i->\",x[0],x[0])"
      ],
      "execution_count": 11,
      "outputs": [
        {
          "output_type": "execute_result",
          "data": {
            "text/plain": [
              "tensor(0.6664)"
            ]
          },
          "metadata": {
            "tags": []
          },
          "execution_count": 11
        }
      ]
    },
    {
      "cell_type": "code",
      "metadata": {
        "colab": {
          "base_uri": "https://localhost:8080/"
        },
        "id": "IjJGHpEOxIAk",
        "outputId": "56ef243f-8ba5-4911-fcb0-5a4bc5cf2292"
      },
      "source": [
        "# dot product with matrix\n",
        "torch.einsum(\"ij,ij->\",x,x)"
      ],
      "execution_count": 12,
      "outputs": [
        {
          "output_type": "execute_result",
          "data": {
            "text/plain": [
              "tensor(5.5760)"
            ]
          },
          "metadata": {
            "tags": []
          },
          "execution_count": 12
        }
      ]
    },
    {
      "cell_type": "code",
      "metadata": {
        "colab": {
          "base_uri": "https://localhost:8080/"
        },
        "id": "IMvcB27hxVHx",
        "outputId": "9a641a07-5304-410b-9aab-7006b03bd4aa"
      },
      "source": [
        "# element wise multiplication\n",
        "torch.einsum(\"ij,ij->ij\",x,x)"
      ],
      "execution_count": 13,
      "outputs": [
        {
          "output_type": "execute_result",
          "data": {
            "text/plain": [
              "tensor([[4.6647e-01, 6.4826e-04, 1.9924e-01],\n",
              "        [1.1946e+00, 3.2883e-02, 3.6822e+00]])"
            ]
          },
          "metadata": {
            "tags": []
          },
          "execution_count": 13
        }
      ]
    },
    {
      "cell_type": "code",
      "metadata": {
        "colab": {
          "base_uri": "https://localhost:8080/"
        },
        "id": "Qag2mMjUxfxm",
        "outputId": "e746831f-451d-4ea6-fcdb-ca5dc7a58747"
      },
      "source": [
        "# outer product\n",
        "a = torch.rand(3)\n",
        "b = torch.rand(5)\n",
        "print(a)\n",
        "print(b)\n",
        "torch.einsum(\"i,j->ij\",a,b)"
      ],
      "execution_count": 15,
      "outputs": [
        {
          "output_type": "stream",
          "text": [
            "tensor([0.1293, 0.6494, 0.8905])\n",
            "tensor([0.0744, 0.1077, 0.0300, 0.8260, 0.2980])\n"
          ],
          "name": "stdout"
        },
        {
          "output_type": "execute_result",
          "data": {
            "text/plain": [
              "tensor([[0.0096, 0.0139, 0.0039, 0.1068, 0.0385],\n",
              "        [0.0483, 0.0699, 0.0195, 0.5364, 0.1935],\n",
              "        [0.0662, 0.0959, 0.0267, 0.7355, 0.2653]])"
            ]
          },
          "metadata": {
            "tags": []
          },
          "execution_count": 15
        }
      ]
    },
    {
      "cell_type": "code",
      "metadata": {
        "colab": {
          "base_uri": "https://localhost:8080/"
        },
        "id": "Ti3McOObxx0V",
        "outputId": "5497eccf-ff1c-4a5f-e15c-c72e8211058c"
      },
      "source": [
        "# batch matrix multiplication\n",
        "\n",
        "a = torch.rand((3,2,5))\n",
        "b = torch.rand((3,5,3))\n",
        "\n",
        "\n",
        "torch.einsum(\"ijk,ikl->ijl\",a,b)\n"
      ],
      "execution_count": 16,
      "outputs": [
        {
          "output_type": "execute_result",
          "data": {
            "text/plain": [
              "tensor([[[0.9618, 1.1736, 1.1913],\n",
              "         [1.5092, 1.0194, 1.4541]],\n",
              "\n",
              "        [[1.0644, 0.7327, 1.5274],\n",
              "         [0.9358, 0.6952, 1.4867]],\n",
              "\n",
              "        [[1.7032, 1.2922, 1.5196],\n",
              "         [1.0232, 0.7781, 0.8178]]])"
            ]
          },
          "metadata": {
            "tags": []
          },
          "execution_count": 16
        }
      ]
    },
    {
      "cell_type": "code",
      "metadata": {
        "colab": {
          "base_uri": "https://localhost:8080/"
        },
        "id": "s9dGimuZyMcU",
        "outputId": "a28a5fea-ec84-4225-c8ba-31e7bb39f67f"
      },
      "source": [
        "# matrix diagonal\n",
        "a = torch.rand((2,2))\n",
        "\n",
        "print(a)\n",
        "\n",
        "torch.einsum(\"ii->i\",a)\n"
      ],
      "execution_count": 22,
      "outputs": [
        {
          "output_type": "stream",
          "text": [
            "tensor([[0.5349, 0.9614],\n",
            "        [0.6673, 0.6055]])\n"
          ],
          "name": "stdout"
        },
        {
          "output_type": "execute_result",
          "data": {
            "text/plain": [
              "tensor([0.5349, 0.6055])"
            ]
          },
          "metadata": {
            "tags": []
          },
          "execution_count": 22
        }
      ]
    },
    {
      "cell_type": "code",
      "metadata": {
        "colab": {
          "base_uri": "https://localhost:8080/"
        },
        "id": "KKhbX4b6yZZC",
        "outputId": "1197ee41-e195-4be9-ffb8-36e9d9b89470"
      },
      "source": [
        "# matrix trace\n",
        "a = torch.rand((2,2))\n",
        "\n",
        "print(a)\n",
        "\n",
        "torch.einsum(\"ii->\",a)"
      ],
      "execution_count": 28,
      "outputs": [
        {
          "output_type": "stream",
          "text": [
            "tensor([[0.6304, 0.3092],\n",
            "        [0.7677, 0.7676]])\n"
          ],
          "name": "stdout"
        },
        {
          "output_type": "execute_result",
          "data": {
            "text/plain": [
              "tensor(1.3980)"
            ]
          },
          "metadata": {
            "tags": []
          },
          "execution_count": 28
        }
      ]
    },
    {
      "cell_type": "markdown",
      "metadata": {
        "id": "7PBzgMSRznxo"
      },
      "source": [
        "[EINSUM IS ALL YOU NEED - EINSTEIN SUMMATION IN DEEP LEARNING](https://https://rockt.github.io/2018/04/30/einsum)"
      ]
    }
  ]
}